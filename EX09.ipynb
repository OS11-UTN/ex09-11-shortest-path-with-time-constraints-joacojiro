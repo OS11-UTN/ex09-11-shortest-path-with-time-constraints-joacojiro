{
 "cells": [
  {
   "cell_type": "code",
   "execution_count": 1,
   "metadata": {},
   "outputs": [],
   "source": [
    "import numpy as np\n",
    "from scipy.optimize import linprog\n",
    "from ipynb.fs.full.functions import nn2na, get_selected_arcs"
   ]
  },
  {
   "cell_type": "code",
   "execution_count": 2,
   "metadata": {},
   "outputs": [],
   "source": [
    "#Import data\n",
    "NN = np.array([[0, 1, 1, 0, 0, 0],\n",
    "               [0, 0, 0, 1, 0, 1],\n",
    "               [0, 0, 0, 0, 1, 0],\n",
    "               [0, 0, 0, 0, 0, 1],\n",
    "               [0, 0, 0, 0, 0, 1],\n",
    "               [0, 0, 0, 0, 0, 0]])\n",
    "beq = np.array([1, 0, 0, 0, 0, -1])\n",
    "C = np.array([2, 1, 2, 5, 2, 1, 2])\n",
    "Aub = [[3, 1, 3, 1, 3, 3, 5]]\n",
    "bub = 9"
   ]
  },
  {
   "cell_type": "code",
   "execution_count": 3,
   "metadata": {},
   "outputs": [],
   "source": [
    "# DATA transforming for optimization:\n",
    "Aeq, arc_idxs, arc_idxs_list = nn2na(NN)\n",
    "bounds = tuple([(0, None) for arcs in range(0, Aeq.shape[1])])"
   ]
  },
  {
   "cell_type": "code",
   "execution_count": 4,
   "metadata": {
    "scrolled": true
   },
   "outputs": [
    {
     "name": "stdout",
     "output_type": "stream",
     "text": [
      "## Optimizer inputs ## \n",
      "Cost vector: [2 1 2 5 2 1 2] \n",
      "A_eq Node-Arc matrix:\n",
      "[[ 1  1  0  0  0  0  0]\n",
      " [-1  0  1  1  0  0  0]\n",
      " [ 0 -1  0  0  1  0  0]\n",
      " [ 0  0 -1  0  0  1  0]\n",
      " [ 0  0  0  0 -1  0  1]\n",
      " [ 0  0  0 -1  0 -1 -1]] \n",
      "b_eq demand-supply vector: [ 1  0  0  0  0 -1] \n",
      "Bounds of each X arc variable: ((0, None), (0, None), (0, None), (0, None), (0, None), (0, None), (0, None)) \n",
      "\n"
     ]
    }
   ],
   "source": [
    "print('## Optimizer inputs ## \\n'\n",
    "      'Cost vector: %s \\n'\n",
    "      'A_eq Node-Arc matrix:\\n%s \\n'\n",
    "      'b_eq demand-supply vector: %s \\n'\n",
    "      'Bounds of each X arc variable: %s \\n' % (C, Aeq, beq, bounds)) "
   ]
  },
  {
   "cell_type": "code",
   "execution_count": 5,
   "metadata": {},
   "outputs": [
    {
     "name": "stderr",
     "output_type": "stream",
     "text": [
      "C:\\Users\\joaquin\\Anaconda3\\lib\\site-packages\\ipykernel_launcher.py:2: OptimizeWarning: A_eq does not appear to be of full row rank. To improve performance, check the problem formulation for redundant equality constraints.\n",
      "  \n"
     ]
    }
   ],
   "source": [
    "# OPTIMIZE:\n",
    "res = linprog(C, A_eq=Aeq, b_eq=beq, bounds=bounds, A_ub=Aub, b_ub=bub, method='simplex')"
   ]
  },
  {
   "cell_type": "code",
   "execution_count": 6,
   "metadata": {},
   "outputs": [
    {
     "name": "stdout",
     "output_type": "stream",
     "text": [
      "## Results Using Simplex##\n",
      "The raw solution will be: [0. 1. 0. 0. 1. 0. 1.]\n",
      "The arcs that make the shortest path will be (from, to): [(0, 2), (2, 4), (4, 5)]\n",
      "The minimum cost will be: 5.00 \n"
     ]
    }
   ],
   "source": [
    "# GET THE SOLUTION:\n",
    "selarcs = get_selected_arcs(arc_idxs, res.x)\n",
    "print('## Results Using Simplex##')\n",
    "print('The raw solution will be: %s' % res.x)\n",
    "print('The arcs that make the shortest path will be (from, to): %s' % selarcs)\n",
    "print('The minimum cost will be: %0.2f ' % res.fun)"
   ]
  },
  {
   "cell_type": "code",
   "execution_count": 7,
   "metadata": {},
   "outputs": [
    {
     "name": "stderr",
     "output_type": "stream",
     "text": [
      "C:\\Users\\joaquin\\Anaconda3\\lib\\site-packages\\ipykernel_launcher.py:3: OptimizeWarning: A_eq does not appear to be of full row rank. To improve performance, check the problem formulation for redundant equality constraints.\n",
      "  This is separate from the ipykernel package so we can avoid doing imports until\n"
     ]
    }
   ],
   "source": [
    "bub = 8\n",
    "# OPTIMIZE:\n",
    "res = linprog(C, A_eq=Aeq, b_eq=beq, bounds=bounds, A_ub=Aub, b_ub=bub, method='simplex')"
   ]
  },
  {
   "cell_type": "code",
   "execution_count": 8,
   "metadata": {},
   "outputs": [
    {
     "name": "stdout",
     "output_type": "stream",
     "text": [
      "## Results Using Simplex##\n",
      "The raw solution will be: [0.2 0.8 0.  0.2 0.8 0.  0.8]\n",
      "The arcs that make the shortest path will be (from, to): []\n",
      "The minimum cost will be: 5.40 \n"
     ]
    }
   ],
   "source": [
    "# GET THE SOLUTION:\n",
    "selarcs = get_selected_arcs(arc_idxs, res.x)\n",
    "print('## Results Using Simplex##')\n",
    "print('The raw solution will be: %s' % res.x)\n",
    "print('The arcs that make the shortest path will be (from, to): %s' % selarcs)\n",
    "print('The minimum cost will be: %0.2f ' % res.fun)"
   ]
  },
  {
   "cell_type": "markdown",
   "metadata": {},
   "source": [
    "In this case we can see that when restricting our available time to \"walk\" the path, the solver does not find an acceptable solution. This is evident when we see the value of decision variables in the optimum: they are not integers. This happens because we never told the model not to take continuous values. "
   ]
  },
  {
   "cell_type": "code",
   "execution_count": null,
   "metadata": {},
   "outputs": [],
   "source": []
  }
 ],
 "metadata": {
  "kernelspec": {
   "display_name": "Python 3",
   "language": "python",
   "name": "python3"
  },
  "language_info": {
   "codemirror_mode": {
    "name": "ipython",
    "version": 3
   },
   "file_extension": ".py",
   "mimetype": "text/x-python",
   "name": "python",
   "nbconvert_exporter": "python",
   "pygments_lexer": "ipython3",
   "version": "3.7.3"
  }
 },
 "nbformat": 4,
 "nbformat_minor": 2
}
