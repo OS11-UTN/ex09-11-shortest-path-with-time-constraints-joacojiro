{
 "cells": [
  {
   "cell_type": "code",
   "execution_count": 1,
   "metadata": {},
   "outputs": [],
   "source": [
    "import numpy as np\n",
    "from scipy.optimize import linprog\n",
    "from ipynb.fs.full.functions import nn2na, get_selected_arcs\n",
    "import matplotlib.pyplot as plt"
   ]
  },
  {
   "cell_type": "code",
   "execution_count": 2,
   "metadata": {},
   "outputs": [],
   "source": [
    "#Import data\n",
    "NN = np.array([[0, 1, 1, 0, 0, 0],\n",
    "               [0, 0, 0, 1, 0, 1],\n",
    "               [0, 0, 0, 0, 1, 0],\n",
    "               [0, 0, 0, 0, 0, 1],\n",
    "               [0, 0, 0, 0, 0, 1],\n",
    "               [0, 0, 0, 0, 0, 0]])\n",
    "beq = np.array([1, 0, 0, 0, 0, -1])\n",
    "C = np.array([2, 1, 2, 5, 2, 1, 2])\n",
    "t = np.array([[3, 1, 3, 1, 3, 3, 5]])\n",
    "T = 8"
   ]
  },
  {
   "cell_type": "code",
   "execution_count": 3,
   "metadata": {},
   "outputs": [],
   "source": [
    "# DATA transforming for optimization:\n",
    "Aeq, arc_idxs, arc_idxs_list = nn2na(NN)\n",
    "bounds = tuple([(0, None) for arcs in range(0, Aeq.shape[1])])"
   ]
  },
  {
   "cell_type": "markdown",
   "metadata": {},
   "source": [
    "I define lambda vector with values between 0 and 1: "
   ]
  },
  {
   "cell_type": "code",
   "execution_count": 4,
   "metadata": {},
   "outputs": [],
   "source": [
    "lamb = np.arange(0, 1.05, 0.05)"
   ]
  },
  {
   "cell_type": "markdown",
   "metadata": {},
   "source": [
    "I define the vector where afterwards we'll save (iteration by iteration) Langrange's values:"
   ]
  },
  {
   "cell_type": "code",
   "execution_count": 5,
   "metadata": {},
   "outputs": [],
   "source": [
    "L = np.zeros(np.shape(lamb))"
   ]
  },
  {
   "cell_type": "markdown",
   "metadata": {},
   "source": [
    "I iterate for every lambda to find the value that gives the best value of OF:"
   ]
  },
  {
   "cell_type": "code",
   "execution_count": 6,
   "metadata": {},
   "outputs": [
    {
     "name": "stderr",
     "output_type": "stream",
     "text": [
      "C:\\Users\\joaquin\\Anaconda3\\lib\\site-packages\\ipykernel_launcher.py:4: OptimizeWarning: A_eq does not appear to be of full row rank. To improve performance, check the problem formulation for redundant equality constraints.\n",
      "  after removing the cwd from sys.path.\n"
     ]
    },
    {
     "name": "stdout",
     "output_type": "stream",
     "text": [
      "lambda =  0.0 Obf Func:  5.0\n",
      "[(0, 2), (2, 4), (4, 5)]\n",
      "lambda =  0.05 Obf Func:  5.05\n",
      "[(0, 1), (1, 3), (3, 5)]\n",
      "lambda =  0.1 Obf Func:  5.1\n",
      "[(0, 1), (1, 3), (3, 5)]\n",
      "lambda =  0.15 Obf Func:  5.15\n",
      "[(0, 2), (2, 4), (4, 5)]\n",
      "lambda =  0.2 Obf Func:  5.2\n",
      "[(0, 2), (2, 4), (4, 5)]\n",
      "lambda =  0.25 Obf Func:  5.25\n",
      "[(0, 2), (2, 4), (4, 5)]\n",
      "lambda =  0.3 Obf Func:  5.3\n",
      "[(0, 2), (2, 4), (4, 5)]\n",
      "lambda =  0.35 Obf Func:  5.35\n",
      "[(0, 1), (1, 3), (3, 5)]\n",
      "lambda =  0.4 Obf Func:  5.4\n",
      "[(0, 1), (1, 5)]\n",
      "lambda =  0.45 Obf Func:  5.2\n",
      "[(0, 1), (1, 5)]\n",
      "lambda =  0.5 Obf Func:  5.0\n",
      "[(0, 1), (1, 5)]\n",
      "lambda =  0.55 Obf Func:  4.8\n",
      "[(0, 1), (1, 5)]\n",
      "lambda =  0.6 Obf Func:  4.6\n",
      "[(0, 1), (1, 5)]\n",
      "lambda =  0.65 Obf Func:  4.4\n",
      "[(0, 1), (1, 5)]\n",
      "lambda =  0.7 Obf Func:  4.2\n",
      "[(0, 1), (1, 5)]\n",
      "lambda =  0.75 Obf Func:  4.0\n",
      "[(0, 1), (1, 5)]\n",
      "lambda =  0.8 Obf Func:  3.8\n",
      "[(0, 1), (1, 5)]\n",
      "lambda =  0.85 Obf Func:  3.6\n",
      "[(0, 1), (1, 5)]\n",
      "lambda =  0.9 Obf Func:  3.4\n",
      "[(0, 1), (1, 5)]\n",
      "lambda =  0.95 Obf Func:  3.2\n",
      "[(0, 1), (1, 5)]\n",
      "lambda =  1.0 Obf Func:  3.0\n",
      "[(0, 1), (1, 5)]\n"
     ]
    }
   ],
   "source": [
    "Lmax = 0\n",
    "for i in range(len(lamb)):\n",
    "    lag_c = C + t[0] * lamb[i]\n",
    "    res = linprog(lag_c, A_eq=Aeq, b_eq=beq, bounds=bounds, method='revised simplex')\n",
    "    L[i] = res.fun - lamb[i] * T\n",
    "    print('lambda = ',round(lamb[i],ndigits=4),'Obf Func: ',round(L[i],ndigits=4))\n",
    "    selarcs = get_selected_arcs(arc_idxs, res.x)\n",
    "    if L[i]>Lmax:\n",
    "        selarcs_max = selarcs\n",
    "    print(selarcs)\n"
   ]
  },
  {
   "cell_type": "code",
   "execution_count": 7,
   "metadata": {
    "scrolled": false
   },
   "outputs": [
    {
     "data": {
      "image/png": "[encoded data removed]",
      "text/plain": [
       "<Figure size 432x288 with 1 Axes>"
      ]
     },
     "metadata": {
      "needs_background": "light"
     },
     "output_type": "display_data"
    }
   ],
   "source": [
    "plt.scatter(lamb, L, alpha=0.5)\n",
    "plt.xlabel('Lambda values')\n",
    "plt.ylabel('Value of OF')\n",
    "plt.title('Objective function for a range of lambda values')\n",
    "plt.show()"
   ]
  },
  {
   "cell_type": "code",
   "execution_count": 8,
   "metadata": {},
   "outputs": [],
   "source": [
    "opt_time = np.sum(res.x * t)"
   ]
  },
  {
   "cell_type": "code",
   "execution_count": 9,
   "metadata": {},
   "outputs": [
    {
     "name": "stdout",
     "output_type": "stream",
     "text": [
      "The value of lambda that maximizes the function is: 0.4 \n",
      "And the objective function (modified) takes the value of: 5.400000000000001 \n",
      "The arcs that make the shortest path are: [(0, 1), (1, 5)] \n",
      "The shortest path takes 4.0 time units to be covered\n"
     ]
    }
   ],
   "source": [
    "print('The value of lambda that maximizes the function is: %s \\n'\n",
    "      'And the objective function (modified) takes the value of: %s \\n'\n",
    "      'The arcs that make the shortest path are: %s \\n'\n",
    "      'The shortest path takes %s time units to be covered'%(lamb[np.argmax(L)],max(L),selarcs_max, opt_time))"
   ]
  },
  {
   "cell_type": "code",
   "execution_count": null,
   "metadata": {},
   "outputs": [],
   "source": []
  }
 ],
 "metadata": {
  "kernelspec": {
   "display_name": "Python 3",
   "language": "python",
   "name": "python3"
  },
  "language_info": {
   "codemirror_mode": {
    "name": "ipython",
    "version": 3
   },
   "file_extension": ".py",
   "mimetype": "text/x-python",
   "name": "python",
   "nbconvert_exporter": "python",
   "pygments_lexer": "ipython3",
   "version": "3.7.3"
  }
 },
 "nbformat": 4,
 "nbformat_minor": 2
}
